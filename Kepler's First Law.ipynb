{
 "cells": [
  {
   "cell_type": "markdown",
   "metadata": {},
   "source": [
    " # Kepler's First Law"
   ]
  },
  {
   "cell_type": "markdown",
   "metadata": {},
   "source": [
    "Kepler's first law is an empirical observation that the planets move in elliptical orbits. Newton later proved, using his form of geometric calculus, that in all elliptical orbits, the force that attracts the orbiting body to the foci of the ellipse is the inverse-square of the distance. Newton also showed that the reverse of this is true, that orbiting bodies governed by an inverse-square force follow an elliptical path. This project intends to demonstrate, that given a moving body and an inverse-square force towards a central object, the body will follow an elliptical path."
   ]
  },
  {
   "cell_type": "markdown",
   "metadata": {},
   "source": [
    "\n",
    "Firstly, we import some needed libraries and set up the environment for plotting."
   ]
  },
  {
   "cell_type": "code",
   "execution_count": 1,
   "metadata": {
    "collapsed": true
   },
   "outputs": [],
   "source": [
    "%matplotlib inline"
   ]
  },
  {
   "cell_type": "code",
   "execution_count": 2,
   "metadata": {
    "collapsed": true
   },
   "outputs": [],
   "source": [
    "\n",
    "import numpy as np; import matplotlib.pyplot as plt"
   ]
  },
  {
   "cell_type": "markdown",
   "metadata": {},
   "source": [
    "We need to create two lists in order to store the data that will end up getting plotted."
   ]
  },
  {
   "cell_type": "code",
   "execution_count": 3,
   "metadata": {
    "collapsed": true
   },
   "outputs": [],
   "source": [
    "x = []; y = [];"
   ]
  },
  {
   "cell_type": "markdown",
   "metadata": {},
   "source": [
    "Now we will set some initial variables to determine how this simulation will behave. Feel free to change these values in order to get a different final result. 'bheight' is how far above the center the body will start. 'speed' is how fast the body will be going horizontally. 'steps' is the number of updates the simulation will churn through. 'c' stores the coordinates for the center of the orbit. 'body' stores the coordinates for the body's intial position. 'v' is the initial velocity of the body."
   ]
  },
  {
   "cell_type": "code",
   "execution_count": 4,
   "metadata": {
    "collapsed": true
   },
   "outputs": [],
   "source": [
    "bheight = -254.0 - 3959\n",
    "speed = 4.76\n",
    "steps = 1000\n",
    "c = (0.0,0.0)\n",
    "body = (0.0,bheight)\n",
    "v = (speed, 0.0)"
   ]
  },
  {
   "cell_type": "markdown",
   "metadata": {},
   "source": [
    "Now it is time to begin actually simulating the orbits. The general idea is that the forces on the body will be calculated, and then the body will be moved according to those forces. This will happen for n steps. After each step is completed, the resulting position of the body is stored into the x and y lists."
   ]
  },
  {
   "cell_type": "code",
   "execution_count": 5,
   "metadata": {
    "collapsed": true
   },
   "outputs": [],
   "source": [
    "# add the intial positions to the arrays\n",
    "x.append(body[0])\n",
    "y.append(body[1])\n",
    "\n",
    "# take n steps, \n",
    "for i in range(1,steps):\n",
    "\t\n",
    "\t# find the distance the body is from the center using the pythagorean theorem\n",
    "\tdx = c[0]-body[0]\n",
    "\tdy = c[1]-body[1]\n",
    "\td = np.sqrt(dx*dx + dy*dy)\n",
    "\t\n",
    "\t# calculate the force acting on the body using the inverse-square law\n",
    "\tf = 1/d*d\n",
    "\t\n",
    "\t# find the force vector towards the center of the orbit\n",
    "\tdirection = (dx, dy)\n",
    "    \n",
    "    # get the length of this vector so that we can make it unit length\n",
    "\tdirection_length = np.sqrt(direction[0]*direction[0]+direction[1]*direction[1])\n",
    "    \n",
    "\t# normed direction\n",
    "\tdirection = (dx/direction_length, dy/direction_length)\n",
    "    \n",
    "\t# now we can just multiply the unit length direction vector by the length of force to get the force vector\n",
    "\tforce_vector = (f*direction[0],f*direction[1])\n",
    "\t\n",
    "\t# update velocity of the body\n",
    "\tv = (v[0]+force_vector[0],v[1]+force_vector[1])\n",
    "\t\n",
    "\t# update the body's position\n",
    "\tbody = (body[0]+v[0],body[1]+v[1])\n",
    "\t\n",
    "\t# record the position\n",
    "\tx.append(body[0])\n",
    "\ty.append(body[1])\n"
   ]
  },
  {
   "cell_type": "markdown",
   "metadata": {},
   "source": [
    "Now that the simulation has been performed, it is time to plot the data. However, we need to first convert our lists into numpy arrays."
   ]
  },
  {
   "cell_type": "code",
   "execution_count": 6,
   "metadata": {
    "collapsed": true
   },
   "outputs": [],
   "source": [
    "x = np.array(x)\n",
    "y = np.array(y)"
   ]
  },
  {
   "cell_type": "code",
   "execution_count": 7,
   "metadata": {},
   "outputs": [
    {
     "data": {
      "image/png": "[encoded data removed]",
      "text/plain": [
       "<matplotlib.figure.Figure at 0x1708813df60>"
      ]
     },
     "metadata": {},
     "output_type": "display_data"
    }
   ],
   "source": [
    "plt.plot(x,y)\n",
    "plt.title('Orbit Simulation Results');"
   ]
  },
  {
   "cell_type": "markdown",
   "metadata": {},
   "source": [
    "As can be seen from the resulting plot, the orbits appear to follow an elliptical path. This means that, using Python, we have verified Kepler's and Newton's findings. To get a different orbit pattern, try altering some of the initial variables."
   ]
  },
  {
   "cell_type": "code",
   "execution_count": null,
   "metadata": {
    "collapsed": true
   },
   "outputs": [],
   "source": []
  }
 ],
 "metadata": {
  "kernelspec": {
   "display_name": "Python 3",
   "language": "python",
   "name": "python3"
  },
  "language_info": {
   "codemirror_mode": {
    "name": "ipython",
    "version": 3
   },
   "file_extension": ".py",
   "mimetype": "text/x-python",
   "name": "python",
   "nbconvert_exporter": "python",
   "pygments_lexer": "ipython3",
   "version": "3.6.2"
  }
 },
 "nbformat": 4,
 "nbformat_minor": 2
}
